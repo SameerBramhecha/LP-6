{
 "cells": [
  {
   "cell_type": "code",
   "execution_count": 2,
   "id": "076782e4",
   "metadata": {},
   "outputs": [
    {
     "name": "stdout",
     "output_type": "stream",
     "text": [
      "[jupytext] Reading unsupervised.py in format py\n",
      "[jupytext] Writing unsupervised.ipynb\n"
     ]
    }
   ],
   "source": [
    "!jupytext --to notebook unsupervised.py"
   ]
  },
  {
   "cell_type": "code",
   "execution_count": null,
   "id": "bdd6b5a9",
   "metadata": {},
   "outputs": [],
   "source": []
  }
 ],
 "metadata": {
  "kernelspec": {
   "display_name": "Python 3 (ipykernel)",
   "language": "python",
   "name": "python3"
  },
  "language_info": {
   "codemirror_mode": {
    "name": "ipython",
    "version": 3
   },
   "file_extension": ".py",
   "mimetype": "text/x-python",
   "name": "python",
   "nbconvert_exporter": "python",
   "pygments_lexer": "ipython3",
   "version": "3.9.7"
  }
 },
 "nbformat": 4,
 "nbformat_minor": 5
}
